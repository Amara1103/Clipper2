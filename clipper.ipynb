{
  "nbformat": 4,
  "nbformat_minor": 0,
  "metadata": {
    "colab": {
      "provenance": []
    },
    "kernelspec": {
      "name": "python3",
      "display_name": "Python 3"
    },
    "language_info": {
      "name": "python"
    }
  },
  "cells": [
    {
      "cell_type": "markdown",
      "source": [
        "#Clipper测试"
      ],
      "metadata": {
        "id": "hZyKPXSFElmk"
      }
    },
    {
      "cell_type": "code",
      "source": [
        "%cd /content/\n",
        "!rm -rf /content/Clipper2/\n",
        "!git clone https://github.com/AngusJohnson/Clipper2.git"
      ],
      "metadata": {
        "id": "fTwrKra0EqnZ",
        "colab": {
          "base_uri": "https://localhost:8080/"
        },
        "outputId": "65d15dcf-6da0-4e45-9a69-874ec7345b5c"
      },
      "execution_count": 19,
      "outputs": [
        {
          "output_type": "stream",
          "name": "stdout",
          "text": [
            "/content\n",
            "Cloning into 'Clipper2'...\n",
            "remote: Enumerating objects: 7082, done.\u001b[K\n",
            "remote: Counting objects: 100% (1794/1794), done.\u001b[K\n",
            "remote: Compressing objects: 100% (558/558), done.\u001b[K\n",
            "remote: Total 7082 (delta 1338), reused 1477 (delta 1191), pack-reused 5288\u001b[K\n",
            "Receiving objects: 100% (7082/7082), 11.59 MiB | 16.24 MiB/s, done.\n",
            "Resolving deltas: 100% (4744/4744), done.\n"
          ]
        }
      ]
    },
    {
      "cell_type": "code",
      "source": [
        "%cd /content/Clipper2\n",
        "!rm -rf ./build\n",
        "!cmake ./CPP/CMakeLists.txt  -B ./build\n",
        "%cd ./build\n",
        "!make"
      ],
      "metadata": {
        "colab": {
          "base_uri": "https://localhost:8080/"
        },
        "id": "KpZrvNweVh9u",
        "outputId": "6e2df706-6782-42cf-be9d-519b7117b674"
      },
      "execution_count": 20,
      "outputs": [
        {
          "output_type": "stream",
          "name": "stdout",
          "text": [
            "/content/Clipper2\n",
            "-- The C compiler identification is GNU 11.4.0\n",
            "-- The CXX compiler identification is GNU 11.4.0\n",
            "-- Detecting C compiler ABI info\n",
            "-- Detecting C compiler ABI info - done\n",
            "-- Check for working C compiler: /usr/bin/cc - skipped\n",
            "-- Detecting C compile features\n",
            "-- Detecting C compile features - done\n",
            "-- Detecting CXX compiler ABI info\n",
            "-- Detecting CXX compiler ABI info - done\n",
            "-- Check for working CXX compiler: /usr/bin/c++ - skipped\n",
            "-- Detecting CXX compile features\n",
            "-- Detecting CXX compile features - done\n",
            "Cloning into 'googletest'...\n",
            "-- Performing Test CMAKE_HAVE_LIBC_PTHREAD\n",
            "-- Performing Test CMAKE_HAVE_LIBC_PTHREAD - Success\n",
            "-- Found Threads: TRUE  \n",
            "-- Configuring done (5.4s)\n",
            "-- Generating done (0.1s)\n",
            "-- Build files have been written to: /content/Clipper2/build\n",
            "/content/Clipper2/build\n",
            "[  1%] \u001b[32mBuilding CXX object CMakeFiles/Clipper2.dir/Clipper2Lib/src/clipper.engine.cpp.o\u001b[0m\n",
            "[  2%] \u001b[32mBuilding CXX object CMakeFiles/Clipper2.dir/Clipper2Lib/src/clipper.offset.cpp.o\u001b[0m\n",
            "[  4%] \u001b[32mBuilding CXX object CMakeFiles/Clipper2.dir/Clipper2Lib/src/clipper.rectclip.cpp.o\u001b[0m\n",
            "[  5%] \u001b[32m\u001b[1mLinking CXX static library libClipper2.a\u001b[0m\n",
            "[  5%] Built target Clipper2\n",
            "[  6%] \u001b[32mBuilding CXX object CMakeFiles/Clipper2Z.dir/Clipper2Lib/src/clipper.engine.cpp.o\u001b[0m\n",
            "[  8%] \u001b[32mBuilding CXX object CMakeFiles/Clipper2Z.dir/Clipper2Lib/src/clipper.offset.cpp.o\u001b[0m\n",
            "[  9%] \u001b[32mBuilding CXX object CMakeFiles/Clipper2Z.dir/Clipper2Lib/src/clipper.rectclip.cpp.o\u001b[0m\n",
            "[ 11%] \u001b[32m\u001b[1mLinking CXX static library libClipper2Z.a\u001b[0m\n",
            "[ 11%] Built target Clipper2Z\n",
            "[ 12%] \u001b[32mBuilding CXX object CMakeFiles/Clipper2utils.dir/Utils/clipper.svg.cpp.o\u001b[0m\n",
            "[ 13%] \u001b[32mBuilding CXX object CMakeFiles/Clipper2utils.dir/Utils/ClipFileLoad.cpp.o\u001b[0m\n",
            "[ 15%] \u001b[32mBuilding CXX object CMakeFiles/Clipper2utils.dir/Utils/ClipFileSave.cpp.o\u001b[0m\n",
            "[ 16%] \u001b[32m\u001b[1mLinking CXX static library libClipper2utils.a\u001b[0m\n",
            "[ 16%] Built target Clipper2utils\n",
            "[ 18%] \u001b[32mBuilding CXX object CMakeFiles/Clipper2Zutils.dir/Utils/clipper.svg.cpp.o\u001b[0m\n",
            "[ 19%] \u001b[32mBuilding CXX object CMakeFiles/Clipper2Zutils.dir/Utils/ClipFileLoad.cpp.o\u001b[0m\n",
            "[ 20%] \u001b[32mBuilding CXX object CMakeFiles/Clipper2Zutils.dir/Utils/ClipFileSave.cpp.o\u001b[0m\n",
            "[ 22%] \u001b[32m\u001b[1mLinking CXX static library libClipper2Zutils.a\u001b[0m\n",
            "[ 22%] Built target Clipper2Zutils\n",
            "[ 23%] \u001b[32mBuilding CXX object CMakeFiles/Benchmarks.dir/Examples/Benchmarks/Benchmarks.cpp.o\u001b[0m\n",
            "[ 25%] \u001b[32m\u001b[1mLinking CXX executable Benchmarks\u001b[0m\n",
            "[ 25%] Built target Benchmarks\n",
            "[ 26%] \u001b[32mBuilding CXX object CMakeFiles/Inflate.dir/Examples/Inflate/Inflate.cpp.o\u001b[0m\n",
            "[ 27%] \u001b[32m\u001b[1mLinking CXX executable Inflate\u001b[0m\n",
            "[ 27%] Built target Inflate\n",
            "[ 29%] \u001b[32mBuilding CXX object CMakeFiles/MemLeakTest.dir/Examples/MemLeakTest/MemLeakTest.cpp.o\u001b[0m\n",
            "[ 30%] \u001b[32m\u001b[1mLinking CXX executable MemLeakTest\u001b[0m\n",
            "[ 30%] Built target MemLeakTest\n",
            "[ 31%] \u001b[32mBuilding CXX object CMakeFiles/PolygonSamples.dir/Examples/PolygonSamples/PolygonSamples.cpp.o\u001b[0m\n",
            "[ 33%] \u001b[32m\u001b[1mLinking CXX executable PolygonSamples\u001b[0m\n",
            "[ 33%] Built target PolygonSamples\n",
            "[ 34%] \u001b[32mBuilding CXX object CMakeFiles/RandomClipping.dir/Examples/RandomClipping/RandomClipping.cpp.o\u001b[0m\n",
            "[ 36%] \u001b[32m\u001b[1mLinking CXX executable RandomClipping\u001b[0m\n",
            "[ 36%] Built target RandomClipping\n",
            "[ 37%] \u001b[32mBuilding CXX object CMakeFiles/UnionClipping.dir/Examples/UnionClipping/UnionClipping.cpp.o\u001b[0m\n",
            "[ 38%] \u001b[32m\u001b[1mLinking CXX executable UnionClipping\u001b[0m\n",
            "[ 38%] Built target UnionClipping\n",
            "[ 40%] \u001b[32mBuilding CXX object CMakeFiles/RectClipping.dir/Examples/RectClipping/RectClipping.cpp.o\u001b[0m\n",
            "[ 41%] \u001b[32m\u001b[1mLinking CXX executable RectClipping\u001b[0m\n",
            "[ 41%] Built target RectClipping\n",
            "[ 43%] \u001b[32mBuilding CXX object CMakeFiles/SimpleClipping.dir/Examples/SimpleClipping/SimpleClipping.cpp.o\u001b[0m\n",
            "[ 44%] \u001b[32m\u001b[1mLinking CXX executable SimpleClipping\u001b[0m\n",
            "[ 44%] Built target SimpleClipping\n",
            "[ 45%] \u001b[32mBuilding CXX object CMakeFiles/VariableOffset.dir/Examples/VariableOffset/VariableOffset.cpp.o\u001b[0m\n",
            "[ 47%] \u001b[32m\u001b[1mLinking CXX executable VariableOffset\u001b[0m\n",
            "[ 47%] Built target VariableOffset\n",
            "[ 48%] \u001b[32mBuilding CXX object CMakeFiles/UsingZ.dir/Examples/UsingZ/UsingZ.cpp.o\u001b[0m\n",
            "[ 50%] \u001b[32m\u001b[1mLinking CXX executable UsingZ\u001b[0m\n",
            "[ 50%] Built target UsingZ\n",
            "[ 51%] \u001b[32mBuilding CXX object Tests/googletest/googletest/CMakeFiles/gtest.dir/src/gtest-all.cc.o\u001b[0m\n",
            "[ 52%] \u001b[32m\u001b[1mLinking CXX static library ../../../lib/libgtest.a\u001b[0m\n",
            "[ 52%] Built target gtest\n",
            "[ 54%] \u001b[32mBuilding CXX object Tests/googletest/googletest/CMakeFiles/gtest_main.dir/src/gtest_main.cc.o\u001b[0m\n",
            "[ 55%] \u001b[32m\u001b[1mLinking CXX static library ../../../lib/libgtest_main.a\u001b[0m\n",
            "[ 55%] Built target gtest_main\n",
            "[ 56%] \u001b[32mBuilding CXX object CMakeFiles/ClipperTests.dir/Tests/TestExportHeaders.cpp.o\u001b[0m\n",
            "[ 58%] \u001b[32mBuilding CXX object CMakeFiles/ClipperTests.dir/Tests/TestIsCollinear.cpp.o\u001b[0m\n",
            "[ 59%] \u001b[32mBuilding CXX object CMakeFiles/ClipperTests.dir/Tests/TestLines.cpp.o\u001b[0m\n",
            "[ 61%] \u001b[32mBuilding CXX object CMakeFiles/ClipperTests.dir/Tests/TestOffsets.cpp.o\u001b[0m\n",
            "[ 62%] \u001b[32mBuilding CXX object CMakeFiles/ClipperTests.dir/Tests/TestOffsetOrientation.cpp.o\u001b[0m\n",
            "[ 63%] \u001b[32mBuilding CXX object CMakeFiles/ClipperTests.dir/Tests/TestOrientation.cpp.o\u001b[0m\n",
            "[ 65%] \u001b[32mBuilding CXX object CMakeFiles/ClipperTests.dir/Tests/TestPolygons.cpp.o\u001b[0m\n",
            "[ 66%] \u001b[32mBuilding CXX object CMakeFiles/ClipperTests.dir/Tests/TestPolytreeHoles.cpp.o\u001b[0m\n",
            "[ 68%] \u001b[32mBuilding CXX object CMakeFiles/ClipperTests.dir/Tests/TestPolytreeIntersection.cpp.o\u001b[0m\n",
            "[ 69%] \u001b[32mBuilding CXX object CMakeFiles/ClipperTests.dir/Tests/TestPolytreeUnion.cpp.o\u001b[0m\n",
            "[ 70%] \u001b[32mBuilding CXX object CMakeFiles/ClipperTests.dir/Tests/TestRandomPaths.cpp.o\u001b[0m\n",
            "[ 72%] \u001b[32mBuilding CXX object CMakeFiles/ClipperTests.dir/Tests/TestRectClip.cpp.o\u001b[0m\n",
            "[ 73%] \u001b[32mBuilding CXX object CMakeFiles/ClipperTests.dir/Tests/TestSimplifyPath.cpp.o\u001b[0m\n",
            "[ 75%] \u001b[32mBuilding CXX object CMakeFiles/ClipperTests.dir/Tests/TestTrimCollinear.cpp.o\u001b[0m\n",
            "[ 76%] \u001b[32mBuilding CXX object CMakeFiles/ClipperTests.dir/Tests/TestWindows.cpp.o\u001b[0m\n",
            "[ 77%] \u001b[32m\u001b[1mLinking CXX executable ClipperTests\u001b[0m\n",
            "[ 77%] Built target ClipperTests\n",
            "[ 79%] \u001b[32mBuilding CXX object CMakeFiles/ClipperTestsZ.dir/Tests/TestExportHeaders.cpp.o\u001b[0m\n",
            "[ 80%] \u001b[32mBuilding CXX object CMakeFiles/ClipperTestsZ.dir/Tests/TestIsCollinear.cpp.o\u001b[0m\n",
            "[ 81%] \u001b[32mBuilding CXX object CMakeFiles/ClipperTestsZ.dir/Tests/TestLines.cpp.o\u001b[0m\n",
            "[ 83%] \u001b[32mBuilding CXX object CMakeFiles/ClipperTestsZ.dir/Tests/TestOffsets.cpp.o\u001b[0m\n",
            "[ 84%] \u001b[32mBuilding CXX object CMakeFiles/ClipperTestsZ.dir/Tests/TestOffsetOrientation.cpp.o\u001b[0m\n",
            "[ 86%] \u001b[32mBuilding CXX object CMakeFiles/ClipperTestsZ.dir/Tests/TestOrientation.cpp.o\u001b[0m\n",
            "[ 87%] \u001b[32mBuilding CXX object CMakeFiles/ClipperTestsZ.dir/Tests/TestPolygons.cpp.o\u001b[0m\n",
            "[ 88%] \u001b[32mBuilding CXX object CMakeFiles/ClipperTestsZ.dir/Tests/TestPolytreeHoles.cpp.o\u001b[0m\n",
            "[ 90%] \u001b[32mBuilding CXX object CMakeFiles/ClipperTestsZ.dir/Tests/TestPolytreeIntersection.cpp.o\u001b[0m\n",
            "[ 91%] \u001b[32mBuilding CXX object CMakeFiles/ClipperTestsZ.dir/Tests/TestPolytreeUnion.cpp.o\u001b[0m\n",
            "[ 93%] \u001b[32mBuilding CXX object CMakeFiles/ClipperTestsZ.dir/Tests/TestRandomPaths.cpp.o\u001b[0m\n",
            "[ 94%] \u001b[32mBuilding CXX object CMakeFiles/ClipperTestsZ.dir/Tests/TestRectClip.cpp.o\u001b[0m\n",
            "[ 95%] \u001b[32mBuilding CXX object CMakeFiles/ClipperTestsZ.dir/Tests/TestSimplifyPath.cpp.o\u001b[0m\n",
            "[ 97%] \u001b[32mBuilding CXX object CMakeFiles/ClipperTestsZ.dir/Tests/TestTrimCollinear.cpp.o\u001b[0m\n",
            "[ 98%] \u001b[32mBuilding CXX object CMakeFiles/ClipperTestsZ.dir/Tests/TestWindows.cpp.o\u001b[0m\n",
            "[100%] \u001b[32m\u001b[1mLinking CXX executable ClipperTestsZ\u001b[0m\n",
            "[100%] Built target ClipperTestsZ\n"
          ]
        }
      ]
    },
    {
      "cell_type": "code",
      "source": [
        "!chmod +x /content/Clipper2/build/CMakeFiles/Inflate.dir/Examples/Inflate/Inflate.cpp.o\n",
        "!/content/Clipper2/build/CMakeFiles/Inflate.dir/Examples/Inflate/Inflate.cpp.o"
      ],
      "metadata": {
        "colab": {
          "base_uri": "https://localhost:8080/"
        },
        "id": "CeVyd54eauQE",
        "outputId": "8a5b6b92-e558-4c87-d691-56e324a05008"
      },
      "execution_count": 21,
      "outputs": [
        {
          "output_type": "stream",
          "name": "stdout",
          "text": [
            "/bin/bash: line 1: /content/Clipper2/build/CMakeFiles/Inflate.dir/Examples/Inflate/Inflate.cpp.o: cannot execute binary file: Exec format error\n"
          ]
        }
      ]
    },
    {
      "cell_type": "code",
      "source": [
        "# 查看文件是多少位的可执行文件\n",
        "!file /content/Clipper2/build/CMakeFiles/Inflate.dir/Examples/Inflate/Inflate.cpp.o"
      ],
      "metadata": {
        "colab": {
          "base_uri": "https://localhost:8080/"
        },
        "id": "0F04OHZFW3g6",
        "outputId": "57bc4528-9276-40c8-e600-d87e36eaba90"
      },
      "execution_count": 22,
      "outputs": [
        {
          "output_type": "stream",
          "name": "stdout",
          "text": [
            "/content/Clipper2/build/CMakeFiles/Inflate.dir/Examples/Inflate/Inflate.cpp.o: ELF 64-bit LSB relocatable, x86-64, version 1 (SYSV), not stripped\n"
          ]
        }
      ]
    },
    {
      "cell_type": "code",
      "source": [
        "# 查看文件是否依赖其他动态链接库\n",
        "!ldd /content/Clipper2/build/CMakeFiles/Inflate.dir/Examples/Inflate/Inflate.cpp.o"
      ],
      "metadata": {
        "colab": {
          "base_uri": "https://localhost:8080/"
        },
        "id": "Pf-o9f24aDwe",
        "outputId": "33b3b49b-a5fe-491c-ad6b-f3361adc9365"
      },
      "execution_count": 23,
      "outputs": [
        {
          "output_type": "stream",
          "name": "stdout",
          "text": [
            "\tnot a dynamic executable\n"
          ]
        }
      ]
    },
    {
      "cell_type": "code",
      "source": [
        "# 查看本机架构+几位\n",
        "!uname -m"
      ],
      "metadata": {
        "colab": {
          "base_uri": "https://localhost:8080/"
        },
        "id": "F6bdt8wRZDYa",
        "outputId": "dff30e16-9ca9-4564-dabb-42a2fbd68608"
      },
      "execution_count": 24,
      "outputs": [
        {
          "output_type": "stream",
          "name": "stdout",
          "text": [
            "x86_64\n"
          ]
        }
      ]
    }
  ]
}